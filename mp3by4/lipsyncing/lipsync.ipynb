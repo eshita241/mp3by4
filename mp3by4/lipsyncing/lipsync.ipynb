{
 "cells": [
  {
   "cell_type": "code",
   "execution_count": 1,
   "metadata": {},
   "outputs": [
    {
     "name": "stdout",
     "output_type": "stream",
     "text": [
      "Sat Sep 21 13:22:35 2024       \n",
      "+-----------------------------------------------------------------------------------------+\n",
      "| NVIDIA-SMI 560.94                 Driver Version: 560.94         CUDA Version: 12.6     |\n",
      "|-----------------------------------------+------------------------+----------------------+\n",
      "| GPU  Name                  Driver-Model | Bus-Id          Disp.A | Volatile Uncorr. ECC |\n",
      "| Fan  Temp   Perf          Pwr:Usage/Cap |           Memory-Usage | GPU-Util  Compute M. |\n",
      "|                                         |                        |               MIG M. |\n",
      "|=========================================+========================+======================|\n",
      "|   0  NVIDIA GeForce RTX 3060 ...  WDDM  |   00000000:01:00.0 Off |                  N/A |\n",
      "| N/A   37C    P8             15W /   40W |       0MiB /   6144MiB |      0%      Default |\n",
      "|                                         |                        |                  N/A |\n",
      "+-----------------------------------------+------------------------+----------------------+\n",
      "                                                                                         \n",
      "+-----------------------------------------------------------------------------------------+\n",
      "| Processes:                                                                              |\n",
      "|  GPU   GI   CI        PID   Type   Process name                              GPU Memory |\n",
      "|        ID   ID                                                               Usage      |\n",
      "|=========================================================================================|\n",
      "|  No running processes found                                                             |\n",
      "+-----------------------------------------------------------------------------------------+\n"
     ]
    }
   ],
   "source": [
    "!nvidia-smi"
   ]
  },
  {
   "cell_type": "code",
   "execution_count": null,
   "metadata": {},
   "outputs": [],
   "source": [
    "#@title Clone repo\n",
    "!git clone https://github.com/soumik-kanad/diff2lip.git"
   ]
  },
  {
   "cell_type": "code",
   "execution_count": null,
   "metadata": {},
   "outputs": [],
   "source": [
    "#@title Install requirements\n",
    "import os\n",
    "os.chdir('diff2lip')\n",
    "!pip install -r requirements.txt"
   ]
  },
  {
   "cell_type": "code",
   "execution_count": null,
   "metadata": {},
   "outputs": [],
   "source": [
    "#@title Download Checkpoint\n",
    "! mkdir -p checkpoints\n",
    "! gdown 15vMcyPtFDEttNwelP3IouwsMpnccTqit -O checkpoints/checkpoint.pt"
   ]
  },
  {
   "cell_type": "code",
   "execution_count": null,
   "metadata": {},
   "outputs": [],
   "source": [
    "#@title helper functions\n",
    "from google.colab import files\n",
    "import shutil\n",
    "os.makedirs(\"data\", exist_ok=True)\n",
    "\n",
    "def upload_file():\n",
    "    uploaded = files.upload()\n",
    "    uploaded_paths = []\n",
    "    for filename in uploaded.keys():\n",
    "        dst_path = os.path.join(\"data\", filename)\n",
    "        print(f'move {filename} to {dst_path}')\n",
    "        shutil.move(filename, dst_path)\n",
    "        uploaded_paths.append(dst_path)\n",
    "    return uploaded_paths"
   ]
  },
  {
   "cell_type": "code",
   "execution_count": null,
   "metadata": {},
   "outputs": [],
   "source": [
    "#@title Upload Video\n",
    "# from sentence_generate import narrative\n",
    "# v = upload_file()\n",
    "video_path=\"test-video.mp4\"\n",
    "# audio_path=v[0]"
   ]
  },
  {
   "cell_type": "code",
   "execution_count": null,
   "metadata": {},
   "outputs": [],
   "source": [
    "#@title Upload Audio (Upload again or skip this cell if the audio and video are present in the same video uploaded above)\n",
    "# a = upload_file()\n",
    "audio_path=\"video_narrative.mp3\""
   ]
  },
  {
   "cell_type": "code",
   "execution_count": null,
   "metadata": {},
   "outputs": [],
   "source": [
    "#@title Set these paths manually if you upload your files manually\n",
    "# video_path=\"data/Harry_potter_hp_spanish_trim.mp4\"\n",
    "# audio_path=\"data/Harry_potter_hp_spanish_trim.mp4\"\n",
    "out_path=\"output.mp4\""
   ]
  },
  {
   "cell_type": "code",
   "execution_count": null,
   "metadata": {},
   "outputs": [],
   "source": [
    "#@title Setting Flags\n",
    "sample_mode=\"cross\" # or \"reconstruction\"\n",
    "generate_from_filelist=0\n",
    "model_path=\"checkpoints/checkpoint.pt\"\n",
    "pads=\"0,0,0,0\"\n",
    "\n",
    "#cross vs reconstruction\n",
    "if sample_mode == \"reconstruction\":\n",
    "    sample_input_flags=\"--sampling_input_type=first_frame --sampling_ref_type=first_frame\"\n",
    "elif sample_mode == \"cross\":\n",
    "    sample_input_flags=\"--sampling_input_type=gt --sampling_ref_type=gt\"\n",
    "else:\n",
    "    print('Error: sample_mode can only be \\\"cross\\\" or \\\"reconstruction\\\"')\n",
    "\n",
    "MODEL_FLAGS=f\"--attention_resolutions 32,16,8 --class_cond False --learn_sigma True --num_channels 128 --num_head_channels 64 --num_res_blocks 2 --resblock_updown True --use_fp16 True --use_scale_shift_norm False\"\n",
    "DIFFUSION_FLAGS=f\"--predict_xstart False  --diffusion_steps 1000 --noise_schedule linear --rescale_timesteps False\"\n",
    "SAMPLE_FLAGS=f\"--sampling_seed=7   {sample_input_flags} --timestep_respacing ddim25 --use_ddim True --model_path={model_path}\"\n",
    "DATA_FLAGS=f\"--nframes 5 --nrefer 1 --image_size 128 --sampling_batch_size=32 \"\n",
    "TFG_FLAGS=f\"--face_hide_percentage 0.5 --use_ref=True --use_audio=True --audio_as_style=True\"\n",
    "GEN_FLAGS=f\"--generate_from_filelist {generate_from_filelist}  --video_path={video_path} --audio_path={audio_path} --out_path={out_path} --save_orig=False --face_det_batch_size 16 --pads {pads} --is_voxceleb2=False\"\n",
    "\n"
   ]
  },
  {
   "cell_type": "code",
   "execution_count": null,
   "metadata": {},
   "outputs": [],
   "source": [
    "#@title Run Generation (took ~ 4 mins for the example video)\n",
    "!python generate.py {MODEL_FLAGS}  {DIFFUSION_FLAGS}  {SAMPLE_FLAGS} {DATA_FLAGS} {TFG_FLAGS} {GEN_FLAGS}"
   ]
  },
  {
   "cell_type": "code",
   "execution_count": null,
   "metadata": {},
   "outputs": [],
   "source": [
    "#@title Display Output Video\n",
    "import moviepy.editor\n",
    "moviepy.editor.ipython_display(\"output.mp4\")"
   ]
  }
 ],
 "metadata": {
  "kernelspec": {
   "display_name": "Python 3",
   "language": "python",
   "name": "python3"
  },
  "language_info": {
   "codemirror_mode": {
    "name": "ipython",
    "version": 3
   },
   "file_extension": ".py",
   "mimetype": "text/x-python",
   "name": "python",
   "nbconvert_exporter": "python",
   "pygments_lexer": "ipython3",
   "version": "3.11.5"
  }
 },
 "nbformat": 4,
 "nbformat_minor": 2
}
